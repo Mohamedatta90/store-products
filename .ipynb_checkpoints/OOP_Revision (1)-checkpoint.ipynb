{
 "cells": [
  {
   "cell_type": "markdown",
   "metadata": {},
   "source": [
    "# Store Product Project\n",
    "\n",
    "In this project, we will design a system for a store that sells different products. The required tasks and classes are:\n",
    "\n",
    "- ```Product```: Resembles a product in the store. We need to know the name, code, price and available quantity of the product.\n",
    "\n",
    "- ```Order```: An order of products. It has customer name, product types and quantities, order date and total price.\n",
    "\n",
    "- ```Store```: This is our store. It should hold an inventory of products and a record of orders, as well as functions to add new products, make an order, show an order and show available products."
   ]
  },
  {
   "cell_type": "code",
   "execution_count": 1,
   "metadata": {},
   "outputs": [],
   "source": [
    "class Product:\n",
    "    #attributes\n",
    "    def __init__ (self,name,code,price,availabe_quantity) :\n",
    "        self.name = name\n",
    "        self.code = code\n",
    "        self.price = price \n",
    "        self.available_quantity = availabe_quantity \n",
    "   #methods \n",
    "    \n",
    "    def add_quantity (self,quantity_value):\n",
    "        self.availabe_quantity +=quantity_value\n",
    "        \n",
    "    def remove_quantity (self,quantity_value):\n",
    "        if quantity_value > availabe_quantity :\n",
    "            print (f'not enough {self.name} in stock')\n",
    "        else : \n",
    "            availabe_quantity -= quantity_value\n",
    "        \n",
    "        "
   ]
  },
  {
   "cell_type": "code",
   "execution_count": 14,
   "metadata": {},
   "outputs": [],
   "source": [
    "from datetime import datetime\n",
    "class Order:\n",
    "    def __init__ (self,customer_name ,order_id) :\n",
    "    \n",
    "        self.customer_name = customer_name\n",
    "        self.order_id = id\n",
    "        self.order_date = datetime.now\n",
    "        self.products = []\n",
    "    #methods\n",
    "    \n",
    "    def add_product (self,product,quantity) :\n",
    "        self.products.append ((product , quantity ))\n",
    "        \n",
    "        \n",
    "    def get_total_price (self):\n",
    "        \n",
    "        total_price = 0 \n",
    "        \n",
    "        for product , quantity in self.products :\n",
    "            \n",
    "            total_price += (product.price * quantity)\n",
    "            \n",
    "        return total_price\n",
    "    \n",
    "    def show_order (self) :\n",
    "        print (f'order id  {self.order_id} \\t customer name {self.customer_name}')\n",
    "        print ('products')\n",
    "        for product ,quantity in self.products :\n",
    "            print (f'{product.name}\\t{product.price}\\t{quantity}')\n",
    "        print (f'total price :\\t{self.get_total_price()}')"
   ]
  },
  {
   "cell_type": "code",
   "execution_count": null,
   "metadata": {},
   "outputs": [],
   "source": [
    "class Store:\n",
    "    #attributes \n",
    "    def __init__ (self,inventory,orders) :\n",
    "        self.inventory = []\n",
    "        self.orders = []\n",
    "         \n",
    "            #methods \n",
    "    def add_product(self,name,code,price,availabe_quantity)\n",
    "    new_product = Product (name,code,price,availabe_quantity)\n",
    "    new_product.add_quantity(availabe_quantity)\n",
    "    self.inventory.append (new_product)\n",
    "    \n",
    "    def show_products (self) :\n",
    "        print (\"availabe products : \")\n",
    "        for product in self.inventory :\n",
    "            print (f'''code : {product.code}\\t name : {product.name}\\t \n",
    "            price :  {product.price}\\t quantity : {availabe_quantity} \\n''')\n",
    "            \n",
    "    def make_order (self):\n",
    "        new_order = Order (customer_name , order_id)\n",
    "        \n",
    "    \n",
    "        \n",
    "   \n",
    "    \n",
    "    \n",
    "    "
   ]
  },
  {
   "cell_type": "markdown",
   "metadata": {},
   "source": [
    "## Great job!"
   ]
  }
 ],
 "metadata": {
  "kernelspec": {
   "display_name": "Python 3",
   "language": "python",
   "name": "python3"
  },
  "language_info": {
   "codemirror_mode": {
    "name": "ipython",
    "version": 3
   },
   "file_extension": ".py",
   "mimetype": "text/x-python",
   "name": "python",
   "nbconvert_exporter": "python",
   "pygments_lexer": "ipython3",
   "version": "3.7.6"
  }
 },
 "nbformat": 4,
 "nbformat_minor": 2
}
