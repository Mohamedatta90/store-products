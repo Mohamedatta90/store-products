{
 "cells": [
  {
   "cell_type": "markdown",
   "metadata": {},
   "source": [
    "# Store Product Project\n",
    "\n",
    "In this project, we will design a system for a store that sells different products. The required tasks and classes are:\n",
    "\n",
    "- ```Product```: Resembles a product in the store. We need to know the name, code, price and available quantity of the product.\n",
    "\n",
    "- ```Order```: An order of products. It has customer name, product types and quantities, order date and total price.\n",
    "\n",
    "- ```Store```: This is our store. It should hold an inventory of products and a record of orders, as well as functions to add new products, make an order, show an order and show available products."
   ]
  },
  {
   "cell_type": "code",
   "execution_count": 1,
   "metadata": {},
   "outputs": [],
   "source": [
    "class Product:\n",
    "    #attributes\n",
    "    def __init__ (self,name,code,price,quantity) :\n",
    "        self.name = name\n",
    "        self.code = code\n",
    "        self.price = price \n",
    "        self.quantity = quantity \n",
    "   #methods \n",
    "    \n",
    "    def add_quantity (self,value):\n",
    "        self.quantity +=value\n",
    "        \n",
    "    def remove_quantity (self,value):\n",
    "        if value > quantity :\n",
    "            print (f'not enough {self.name} in stock')\n",
    "        else : \n",
    "            quantity -= value\n",
    "        \n",
    "        "
   ]
  },
  {
   "cell_type": "code",
   "execution_count": 2,
   "metadata": {},
   "outputs": [],
   "source": [
    "from datetime import datetime\n",
    "class Order:\n",
    "    def __init__ (self,customer_name ,order_id) :\n",
    "    \n",
    "        self.customer_name = customer_name\n",
    "        self.order_id = id\n",
    "        self.order_date = datetime.now\n",
    "        self.products = []\n",
    "    #methods\n",
    "    \n",
    "    def add_product (self,product,quantity) :\n",
    "        self.products.append ((product , quantity ))\n",
    "        \n",
    "        \n",
    "    def get_total_price (self):\n",
    "        \n",
    "        total_price = 0 \n",
    "        \n",
    "        for product , quantity in self.products :\n",
    "            \n",
    "            total_price += (product.price * quantity)\n",
    "            \n",
    "        return total_price\n",
    "    \n",
    "    def show_order (self) :\n",
    "        print (f'order id  {self.order_id} \\t customer name {self.customer_name}')\n",
    "        print ('products')\n",
    "        for product ,quantity in self.products :\n",
    "            print (f'{product.name}\\t{product.price}\\t{quantity}')\n",
    "        print (f'total price :\\t{self.get_total_price()}')"
   ]
  },
  {
   "cell_type": "code",
   "execution_count": 3,
   "metadata": {},
   "outputs": [],
   "source": [
    "class Store:\n",
    "    #attributes \n",
    "    def __init__ (self) :\n",
    "        self.inventory = []\n",
    "        self.orders = []\n",
    "         \n",
    "            #methods \n",
    "    def add_product(self,code,name,price,quantity):\n",
    "        new_product = Product (name,code,price,quantity)\n",
    "        new_product.add_quantity(quantity)\n",
    "        self.inventory.append (new_product)\n",
    "        \n",
    "    def show_products (self) :\n",
    "        print (\"availabe products : \")\n",
    "        for product in self.inventory :\n",
    "            print (f'''code : {product.code}\\t name : {product.name}\\t \n",
    "            price :  {product.price}\\t quantity : {product.quantity} \\n''')\n",
    "            \n",
    "    def make_order (self):\n",
    "        customer_name = input ('name :  ')\n",
    "        order_id = int(input ('id  '))\n",
    "        new_order = Order (customer_name , order_id)\n",
    "        while True :\n",
    "            product = input ('product : ')\n",
    "            quantity = input('  quantity : ')\n",
    "            for product in self.inventory :\n",
    "                if product.name == product :\n",
    "\n",
    "                    Order.add_product(product,quantity)\n",
    "                    product.remove_quantity(quantity) \n",
    "                    break\n",
    "            choice = int(input ('please enter 1 to add product or 2 to submit your order '))\n",
    "            if choice == 1 :\n",
    "                continue\n",
    "            else :\n",
    "                self.orders.append(new_order)\n",
    "                print ('order submitted ')\n",
    "                break\n",
    "                \n",
    "    def show_order (self) :\n",
    "        ids = list (map(lambda new_order : new_order.id , self.orders))\n",
    "        print (f' availabe orders : {ids} ')\n",
    "        \n",
    "        id = input ('enter order id   ')\n",
    "        \n",
    "        for order in self.orders :\n",
    "            if order.order_id == id :\n",
    "                Order.show_order()\n",
    "                break"
   ]
  },
  {
   "cell_type": "code",
   "execution_count": null,
   "metadata": {},
   "outputs": [],
   "source": []
  },
  {
   "cell_type": "code",
   "execution_count": null,
   "metadata": {},
   "outputs": [],
   "source": []
  },
  {
   "cell_type": "code",
   "execution_count": null,
   "metadata": {},
   "outputs": [],
   "source": []
  },
  {
   "cell_type": "code",
   "execution_count": null,
   "metadata": {},
   "outputs": [],
   "source": []
  },
  {
   "cell_type": "code",
   "execution_count": null,
   "metadata": {},
   "outputs": [],
   "source": []
  },
  {
   "cell_type": "code",
   "execution_count": null,
   "metadata": {},
   "outputs": [],
   "source": []
  },
  {
   "cell_type": "code",
   "execution_count": null,
   "metadata": {},
   "outputs": [],
   "source": [
    " market = Store ()\n",
    "code = ['100', '101', '102', '103']\n",
    "names = ['apple', 'pasta', 'chips', 'cola']\n",
    "prices = [5.99, 6.99, 3.99, 8.99] \n",
    "quantities = [15, 20, 30, 10]\n",
    "for c,n,p,q in zip (code,names,prices,quantities) :\n",
    "    market.add_product(c,n,p,q)"
   ]
  },
  {
   "cell_type": "code",
   "execution_count": null,
   "metadata": {},
   "outputs": [],
   "source": []
  },
  {
   "cell_type": "code",
   "execution_count": null,
   "metadata": {},
   "outputs": [],
   "source": []
  },
  {
   "cell_type": "code",
   "execution_count": null,
   "metadata": {},
   "outputs": [],
   "source": []
  },
  {
   "cell_type": "code",
   "execution_count": null,
   "metadata": {},
   "outputs": [],
   "source": [
    "market.show_products()"
   ]
  },
  {
   "cell_type": "code",
   "execution_count": null,
   "metadata": {},
   "outputs": [],
   "source": []
  },
  {
   "cell_type": "code",
   "execution_count": null,
   "metadata": {},
   "outputs": [],
   "source": [
    "market."
   ]
  },
  {
   "cell_type": "code",
   "execution_count": null,
   "metadata": {},
   "outputs": [
    {
     "name": "stdout",
     "output_type": "stream",
     "text": [
      " availabe orders : [] \n",
      " availabe orders : [] \n"
     ]
    }
   ],
   "source": [
    "market.show_order()"
   ]
  },
  {
   "cell_type": "code",
   "execution_count": null,
   "metadata": {},
   "outputs": [],
   "source": []
  },
  {
   "cell_type": "code",
   "execution_count": null,
   "metadata": {},
   "outputs": [],
   "source": []
  },
  {
   "cell_type": "code",
   "execution_count": null,
   "metadata": {},
   "outputs": [],
   "source": []
  },
  {
   "cell_type": "code",
   "execution_count": null,
   "metadata": {},
   "outputs": [],
   "source": []
  },
  {
   "cell_type": "code",
   "execution_count": null,
   "metadata": {},
   "outputs": [],
   "source": []
  },
  {
   "cell_type": "code",
   "execution_count": null,
   "metadata": {},
   "outputs": [],
   "source": []
  },
  {
   "cell_type": "code",
   "execution_count": null,
   "metadata": {},
   "outputs": [],
   "source": []
  },
  {
   "cell_type": "code",
   "execution_count": null,
   "metadata": {},
   "outputs": [],
   "source": []
  },
  {
   "cell_type": "code",
   "execution_count": null,
   "metadata": {},
   "outputs": [],
   "source": []
  },
  {
   "cell_type": "code",
   "execution_count": null,
   "metadata": {},
   "outputs": [],
   "source": []
  },
  {
   "cell_type": "code",
   "execution_count": null,
   "metadata": {},
   "outputs": [],
   "source": []
  },
  {
   "cell_type": "code",
   "execution_count": null,
   "metadata": {},
   "outputs": [],
   "source": []
  },
  {
   "cell_type": "code",
   "execution_count": null,
   "metadata": {},
   "outputs": [],
   "source": []
  },
  {
   "cell_type": "code",
   "execution_count": null,
   "metadata": {},
   "outputs": [],
   "source": []
  },
  {
   "cell_type": "markdown",
   "metadata": {},
   "source": [
    "## Great job!"
   ]
  }
 ],
 "metadata": {
  "kernelspec": {
   "display_name": "Python 3",
   "language": "python",
   "name": "python3"
  },
  "language_info": {
   "codemirror_mode": {
    "name": "ipython",
    "version": 3
   },
   "file_extension": ".py",
   "mimetype": "text/x-python",
   "name": "python",
   "nbconvert_exporter": "python",
   "pygments_lexer": "ipython3",
   "version": "3.7.6"
  }
 },
 "nbformat": 4,
 "nbformat_minor": 2
}
